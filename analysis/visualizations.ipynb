{
 "cells": [
  {
   "cell_type": "code",
   "execution_count": null,
   "metadata": {},
   "outputs": [],
   "source": [
    "import numpy as np\n",
    "import math\n",
    "from matplotlib import pyplot as plt\n",
    "\n",
    "def erf(x):\n",
    "    r = list()\n",
    "    for xi in x:\n",
    "        r.append(math.erf(xi))\n",
    "    return np.array(r)\n",
    "\n",
    "def gelu(x):\n",
    "    y = x*(1+erf(x/math.sqrt(2)))/2\n",
    "    return np.array(y) \n",
    "\n",
    "def relu(x):\n",
    "    return np.array(x * (x > 0))\n",
    "\n",
    "def sigmoid(x):\n",
    "    return np.array(1/(np.exp(-x) + 1))"
   ]
  },
  {
   "cell_type": "code",
   "execution_count": null,
   "metadata": {},
   "outputs": [],
   "source": [
    "xm = 2.5\n",
    "d1 = 100000\n",
    "\n",
    "plt.rcParams[\"figure.figsize\"] = (8,3)\n",
    "\n",
    "x = np.linspace(-xm,xm,int(2*xm*d1))\n",
    "\n",
    "fig, (ax1, ax2) = plt.subplots(1, 2)\n",
    "fig.set_dpi(300)\n",
    "\n",
    "ax1.plot(x, relu(x), label='ReLU')\n",
    "ax1.plot(x, sigmoid(x), '--' , label='Sigmoid')\n",
    "ax1.plot(x, gelu(x), '-.', label='GELU')\n",
    "\n",
    "ax1.legend()\n",
    "ax1.grid(alpha=0.2)\n",
    "\n",
    "fig.suptitle('Activation Functions and Their Derivatives')\n",
    "\n",
    "xd = x[:-1]\n",
    "\n",
    "ax2.plot(xd, d1*np.diff(relu(x)), label='ReLU')\n",
    "ax2.plot(xd, d1*np.diff(sigmoid(x)), '--' , label='Sigmoid')\n",
    "ax2.plot(xd, d1*np.diff(gelu(x)), '-.', label='GELU')\n",
    "ax2.grid(alpha=0.2)\n",
    "\n",
    "plt.show()\n",
    "fig.savefig('results/activ.pdf')"
   ]
  },
  {
   "cell_type": "code",
   "execution_count": null,
   "metadata": {},
   "outputs": [],
   "source": [
    "from torch.quasirandom import SobolEngine\n",
    "from matplotlib import pyplot as plt\n",
    "import numpy as np\n",
    "\n",
    "plt.rcParams['figure.figsize'] = [5, 5]\n",
    "plt.rcParams['figure.dpi'] = 100\n",
    "\n",
    "sobol_engine = SobolEngine(2)\n",
    "X = 2*sobol_engine.draw(1000) - 1\n",
    "Y = 2*sobol_engine.draw(100) - 1\n",
    "\n",
    "plt.scatter(X[:,0], X[:,1])\n",
    "plt.scatter(Y[:,0], Y[:,1], c='r', marker='d')\n",
    "\n",
    "plt.xlabel('Input Dimension #1', fontsize=14)\n",
    "plt.ylabel('Input Dimension #2', fontsize=14)\n",
    "\n",
    "plt.title('Sobol Sequence', fontsize=18)\n",
    "\n",
    "plt.savefig('results/sobol_input.pdf')\n",
    "plt.show()\n"
   ]
  },
  {
   "cell_type": "code",
   "execution_count": null,
   "metadata": {},
   "outputs": [],
   "source": [
    "plt.rcParams['figure.figsize'] = [5, 5]\n",
    "plt.rcParams['figure.dpi'] = 100\n",
    "\n",
    "X = np.random.uniform(-1,+1,(1000,2))\n",
    "Y = np.random.uniform(-1,+1,(100,2))\n",
    "\n",
    "plt.scatter(X[:,0], X[:,1])\n",
    "plt.scatter(Y[:,0], Y[:,1], c='r', marker='d')\n",
    "\n",
    "plt.xlabel('Input Dimension #1', fontsize=14)\n",
    "plt.ylabel('Input Dimension #2', fontsize=14)\n",
    "\n",
    "plt.title('Uniform Distribution', fontsize=18)\n",
    "\n",
    "plt.savefig('results/uniform_input.pdf')\n",
    "plt.show()"
   ]
  },
  {
   "cell_type": "code",
   "execution_count": null,
   "metadata": {},
   "outputs": [],
   "source": [
    "plt.rcParams['figure.figsize'] = [5, 5]\n",
    "plt.rcParams['figure.dpi'] = 100\n",
    "\n",
    "X = np.random.normal(0,+0.5,(1000,2))\n",
    "Y = np.random.normal(0,+0.5,(100,2))\n",
    "\n",
    "plt.scatter(X[:,0], X[:,1])\n",
    "plt.scatter(Y[:,0], Y[:,1], c='r', marker='d')\n",
    "\n",
    "plt.xlabel('Input Dimension #1', fontsize=14)\n",
    "plt.ylabel('Input Dimension #2', fontsize=14)\n",
    "\n",
    "plt.title('Gaussian Distribution', fontsize=18)\n",
    "\n",
    "plt.savefig('results/gaussian_input.pdf')\n",
    "plt.show()"
   ]
  },
  {
   "cell_type": "code",
   "execution_count": null,
   "metadata": {},
   "outputs": [],
   "source": []
  }
 ],
 "metadata": {
  "interpreter": {
   "hash": "5a18c59a9762eab859198f7944db8dedbce5074fe9ae47ad4c0db597f997c240"
  },
  "kernelspec": {
   "display_name": "Python 3.8.12 64-bit ('sgdn': conda)",
   "language": "python",
   "name": "python3"
  },
  "language_info": {
   "codemirror_mode": {
    "name": "ipython",
    "version": 3
   },
   "file_extension": ".py",
   "mimetype": "text/x-python",
   "name": "python",
   "nbconvert_exporter": "python",
   "pygments_lexer": "ipython3",
   "version": "3.8.12"
  },
  "orig_nbformat": 4
 },
 "nbformat": 4,
 "nbformat_minor": 2
}
