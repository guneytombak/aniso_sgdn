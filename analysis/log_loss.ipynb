{
 "cells": [
  {
   "cell_type": "code",
   "execution_count": null,
   "metadata": {},
   "outputs": [],
   "source": [
    "\n",
    "import pandas as pd \n",
    "import wandb\n",
    "import numpy as np\n",
    "\n",
    "api = wandb.Api()\n",
    "entity, project = \"guneytombak\", \"aniso_sgdn\"  # set to your entity and project \n",
    "runs = api.runs(entity + \"/\" + project) "
   ]
  },
  {
   "cell_type": "code",
   "execution_count": null,
   "metadata": {},
   "outputs": [],
   "source": [
    "def find_params(run):\n",
    "\n",
    "    data = np.array(run.history()[['Loss', 'EoSq']])\n",
    "    data = data[~np.isnan(data).any(axis=1)]\n",
    "    x, y = data[:,0], data[:,1]\n",
    "\n",
    "    rho = np.corrcoef(x,y)\n",
    "\n",
    "    # y = a*x**p + b\n",
    "    # log(y-b) = log(a) + p*log(x)\n",
    "\n",
    "    b = 0.0\n",
    "    for k in range(1):\n",
    "        logA = np.vstack([np.log(x), np.ones(len(x))]).T\n",
    "        p, _ = np.linalg.lstsq(logA, np.log(y-b/2), rcond=None)[0]\n",
    "        Ap = np.vstack([x**p, np.ones(len(x))]).T\n",
    "        a, b = np.linalg.lstsq(Ap, y, rcond=None)[0]\n",
    "        y_pred = a*(x**p) + b\n",
    "\n",
    "    return a, b, p, rho[0,1]\n",
    "        \n",
    "    \n",
    "    "
   ]
  },
  {
   "cell_type": "code",
   "execution_count": null,
   "metadata": {},
   "outputs": [],
   "source": [
    "for run in runs: \n",
    "    if 'final' in run.TAGS and run.state == 'finished':\n",
    "        if 'gendata' in run.TAGS:\n",
    "            # print(run.name[:-9])\n",
    "            a,b,p,rho= find_params(run)\n",
    "            print(a,b,p,rho)\n"
   ]
  },
  {
   "cell_type": "code",
   "execution_count": null,
   "metadata": {},
   "outputs": [],
   "source": [
    "data = np.array(run.history()[['Loss', 'EoSq']])\n",
    "data = data[~np.isnan(data).any(axis=1)]\n",
    "data[:,0]"
   ]
  },
  {
   "cell_type": "code",
   "execution_count": null,
   "metadata": {},
   "outputs": [],
   "source": []
  }
 ],
 "metadata": {
  "interpreter": {
   "hash": "5a18c59a9762eab859198f7944db8dedbce5074fe9ae47ad4c0db597f997c240"
  },
  "kernelspec": {
   "display_name": "Python 3.8.12 64-bit ('sgdn': conda)",
   "language": "python",
   "name": "python3"
  },
  "language_info": {
   "codemirror_mode": {
    "name": "ipython",
    "version": 3
   },
   "file_extension": ".py",
   "mimetype": "text/x-python",
   "name": "python",
   "nbconvert_exporter": "python",
   "pygments_lexer": "ipython3",
   "version": "3.8.12"
  },
  "orig_nbformat": 4
 },
 "nbformat": 4,
 "nbformat_minor": 2
}
